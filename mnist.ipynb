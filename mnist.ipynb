{
 "cells": [
  {
   "cell_type": "code",
   "execution_count": 1,
   "id": "e74fd3c6",
   "metadata": {},
   "outputs": [
    {
     "name": "stderr",
     "output_type": "stream",
     "text": [
      "2023-03-31 11:52:27.423125: I tensorflow/core/platform/cpu_feature_guard.cc:182] This TensorFlow binary is optimized to use available CPU instructions in performance-critical operations.\n",
      "To enable the following instructions: AVX2 FMA, in other operations, rebuild TensorFlow with the appropriate compiler flags.\n"
     ]
    }
   ],
   "source": [
    "import numpy as np\n",
    "import matplotlib.pyplot as pyplot\n",
    "import tensorflow as tf\n",
    "\n",
    "import neurodeploy as neuro"
   ]
  },
  {
   "attachments": {},
   "cell_type": "markdown",
   "id": "b28bf5a2",
   "metadata": {},
   "source": [
    "## Loading the MNIST data"
   ]
  },
  {
   "cell_type": "code",
   "execution_count": 27,
   "id": "54b582e8",
   "metadata": {},
   "outputs": [],
   "source": [
    "(x_train, y_train), (x_test, y_test) = tf.keras.datasets.mnist.load_data()\n",
    "x_train = x_train / 255"
   ]
  },
  {
   "cell_type": "code",
   "execution_count": 28,
   "id": "f308a54c",
   "metadata": {},
   "outputs": [
    {
     "data": {
      "text/plain": [
       "<matplotlib.image.AxesImage at 0x145ff1940>"
      ]
     },
     "execution_count": 28,
     "metadata": {},
     "output_type": "execute_result"
    },
    {
     "data": {
      "image/png": "[encoded data removed]",
      "text/plain": [
       "<Figure size 640x480 with 1 Axes>"
      ]
     },
     "metadata": {},
     "output_type": "display_data"
    }
   ],
   "source": [
    "pyplot.imshow(x_test[0], cmap='Greys')"
   ]
  },
  {
   "attachments": {},
   "cell_type": "markdown",
   "id": "ba7a4fad",
   "metadata": {},
   "source": [
    "## Create a DNN to recognize the digits"
   ]
  },
  {
   "cell_type": "code",
   "execution_count": 58,
   "id": "a470f084",
   "metadata": {},
   "outputs": [],
   "source": [
    "def create_model():\n",
    "    model = tf.keras.models.Sequential([\n",
    "        tf.keras.layers.Input(x_train.shape[1:]),\n",
    "        tf.keras.layers.Flatten(),\n",
    "        tf.keras.layers.Dense(8, activation=tf.nn.relu),\n",
    "        tf.keras.layers.Dense(10, activation=tf.nn.softmax)\n",
    "    ])\n",
    "    model.compile(optimizer='adam', \n",
    "        loss=tf.losses.SparseCategoricalCrossentropy(),\n",
    "        metrics=[tf.metrics.SparseCategoricalAccuracy()],\n",
    "    )\n",
    "    return model\n",
    "\n",
    "model = create_model()"
   ]
  },
  {
   "attachments": {},
   "cell_type": "markdown",
   "id": "b46e27e0",
   "metadata": {},
   "source": [
    "### Train the DNN"
   ]
  },
  {
   "cell_type": "code",
   "execution_count": 59,
   "id": "b02d4aa7",
   "metadata": {},
   "outputs": [
    {
     "name": "stdout",
     "output_type": "stream",
     "text": [
      "Epoch 1/5\n",
      "47/47 [==============================] - 1s 7ms/step - loss: 1.9823 - sparse_categorical_accuracy: 0.3386 - val_loss: 1.6145 - val_sparse_categorical_accuracy: 0.5477\n",
      "Epoch 2/5\n",
      "47/47 [==============================] - 0s 4ms/step - loss: 1.4381 - sparse_categorical_accuracy: 0.6009 - val_loss: 1.2292 - val_sparse_categorical_accuracy: 0.6367\n",
      "Epoch 3/5\n",
      "47/47 [==============================] - 0s 4ms/step - loss: 1.1500 - sparse_categorical_accuracy: 0.6415 - val_loss: 1.0070 - val_sparse_categorical_accuracy: 0.6627\n",
      "Epoch 4/5\n",
      "47/47 [==============================] - 0s 4ms/step - loss: 0.9510 - sparse_categorical_accuracy: 0.6869 - val_loss: 0.8169 - val_sparse_categorical_accuracy: 0.7496\n",
      "Epoch 5/5\n",
      "47/47 [==============================] - 0s 4ms/step - loss: 0.7608 - sparse_categorical_accuracy: 0.7771 - val_loss: 0.6525 - val_sparse_categorical_accuracy: 0.8271\n"
     ]
    },
    {
     "data": {
      "text/plain": [
       "<keras.callbacks.History at 0x146c7bb50>"
      ]
     },
     "execution_count": 59,
     "metadata": {},
     "output_type": "execute_result"
    }
   ],
   "source": [
    "model.fit(x_train, y_train, epochs=5, batch_size=1024, validation_split=0.2)"
   ]
  },
  {
   "attachments": {},
   "cell_type": "markdown",
   "id": "a6621d83",
   "metadata": {},
   "source": [
    "## Deploy the model with Neurodeploy"
   ]
  },
  {
   "cell_type": "code",
   "execution_count": 60,
   "id": "221bc25f",
   "metadata": {},
   "outputs": [
    {
     "data": {
      "text/plain": [
       "{'message': 'yout file is uploaded', 'status_code': '200'}"
      ]
     },
     "execution_count": 60,
     "metadata": {},
     "output_type": "execute_result"
    }
   ],
   "source": [
    "neuro.deploy(\"digits\", model)"
   ]
  },
  {
   "attachments": {},
   "cell_type": "markdown",
   "id": "4164e4d2",
   "metadata": {},
   "source": [
    "## Accessing the deployed ML model via requests"
   ]
  },
  {
   "cell_type": "code",
   "execution_count": 32,
   "id": "b699012c",
   "metadata": {},
   "outputs": [],
   "source": [
    "from typing import Any\n",
    "import requests\n",
    "import json\n",
    "\n",
    "def preprocess(x: np.ndarray) -> list:\n",
    "  x = x / 255 # normalize\n",
    "  return x.reshape(1, *x.shape).tolist()\n",
    "\n",
    "def predict(username: str, model_name: str, x: np.ndarray) -> Any:\n",
    "  # get endpoint\n",
    "  url = f\"https://api.neurodeploy.com/{username}/{model_name}\"\n",
    "\n",
    "  # make POST request to the endpoint, passing in preprocessed data\n",
    "  response = requests.post(\n",
    "    url,\n",
    "    headers={'Content-Type': 'application/json'},\n",
    "    data=json.dumps({\"payload\": preprocess(x)})\n",
    "  )\n",
    "\n",
    "  # get output\n",
    "  output = response.json()[\"output\"]\n",
    "\n",
    "  return np.argmax(output)\n"
   ]
  },
  {
   "cell_type": "code",
   "execution_count": 35,
   "id": "aac2581b",
   "metadata": {},
   "outputs": [],
   "source": [
    "def test_k(username, model_name, k) -> bool:\n",
    "    return predict(username, model_name, x_test[k]) == y_test[k]"
   ]
  },
  {
   "cell_type": "code",
   "execution_count": 62,
   "id": "ae9e37b8",
   "metadata": {},
   "outputs": [
    {
     "name": "stdout",
     "output_type": "stream",
     "text": [
      "0: True\n",
      "1: True\n",
      "2: True\n",
      "3: True\n",
      "4: True\n",
      "5: True\n",
      "6: False\n"
     ]
    }
   ],
   "source": [
    "k, val = -1, True\n",
    "while val:\n",
    "    k += 1\n",
    "    val = test_k('vincent', 'digits', k)\n",
    "    print(f\"{k}: {val}\")"
   ]
  },
  {
   "cell_type": "code",
   "execution_count": 72,
   "id": "3ef99cff",
   "metadata": {},
   "outputs": [
    {
     "name": "stdout",
     "output_type": "stream",
     "text": [
      "\n",
      "k: 6\n",
      "guess: 9\n",
      "actual: 4\n",
      "\n"
     ]
    },
    {
     "data": {
      "image/png": "[encoded data removed]",
      "text/plain": [
       "<Figure size 640x480 with 1 Axes>"
      ]
     },
     "metadata": {},
     "output_type": "display_data"
    }
   ],
   "source": [
    "pyplot.imshow(x_test[k])\n",
    "print(f\"\"\"\n",
    "k: {k}\n",
    "guess: {predict('vincent', 'digits', x_test[k])}\n",
    "actual: {y_test[k]}\n",
    "\"\"\")"
   ]
  },
  {
   "cell_type": "code",
   "execution_count": 64,
   "id": "dc6912bc",
   "metadata": {},
   "outputs": [
    {
     "data": {
      "text/plain": [
       "(4, 9)"
      ]
     },
     "execution_count": 64,
     "metadata": {},
     "output_type": "execute_result"
    }
   ],
   "source": []
  },
  {
   "cell_type": "code",
   "execution_count": null,
   "id": "362789cb",
   "metadata": {},
   "outputs": [],
   "source": []
  }
 ],
 "metadata": {
  "kernelspec": {
   "display_name": "Python 3 (ipykernel)",
   "language": "python",
   "name": "python3"
  },
  "language_info": {
   "codemirror_mode": {
    "name": "ipython",
    "version": 3
   },
   "file_extension": ".py",
   "mimetype": "text/x-python",
   "name": "python",
   "nbconvert_exporter": "python",
   "pygments_lexer": "ipython3",
   "version": "3.9.12"
  }
 },
 "nbformat": 4,
 "nbformat_minor": 5
}
